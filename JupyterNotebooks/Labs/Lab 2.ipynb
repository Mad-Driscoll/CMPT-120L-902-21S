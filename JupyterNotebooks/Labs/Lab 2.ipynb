{
 "metadata": {
  "language_info": {
   "codemirror_mode": {
    "name": "ipython",
    "version": 3
   },
   "file_extension": ".py",
   "mimetype": "text/x-python",
   "name": "python",
   "nbconvert_exporter": "python",
   "pygments_lexer": "ipython3",
   "version": "3.8.5-final"
  },
  "orig_nbformat": 2,
  "kernelspec": {
   "name": "python3",
   "display_name": "Python 3",
   "language": "python"
  }
 },
 "nbformat": 4,
 "nbformat_minor": 2,
 "cells": [
  {
   "cell_type": "markdown",
   "metadata": {},
   "source": [
    "# Lab Two\n",
    "---\n",
    "\n",
    "For this lab we're going to get into logic\n",
    "\n",
    "Our Goals are:\n",
    "- Using Conditionals\n",
    "- Using Loops\n",
    "- Creating a Function\n",
    "- Using a Class"
   ]
  },
  {
   "cell_type": "code",
   "execution_count": 5,
   "metadata": {},
   "outputs": [
    {
     "output_type": "stream",
     "name": "stdout",
     "text": [
      "Peanut Butter Jelly Time!\n"
     ]
    }
   ],
   "source": [
    "# Create an if statement\n",
    "has_peanut_butter = True\n",
    "has_jelly = True\n",
    "\n",
    "if has_peanut_butter and has_jelly: \n",
    "    print(\"Peanut Butter Jelly Time!\")"
   ]
  },
  {
   "cell_type": "code",
   "execution_count": 6,
   "metadata": {},
   "outputs": [
    {
     "output_type": "stream",
     "name": "stdout",
     "text": [
      "You failed this course, please try again next semester\n"
     ]
    }
   ],
   "source": [
    "# Create an if else statement\n",
    "passing_class = False\n",
    "if passing_class: \n",
    "    print(\"Congratlations, you recieve an A!\")\n",
    "else:\n",
    "    print(\"You failed this course, please try again next semester\")"
   ]
  },
  {
   "cell_type": "code",
   "execution_count": 11,
   "metadata": {},
   "outputs": [
    {
     "output_type": "stream",
     "name": "stdout",
     "text": [
      "Time to run to the store for supplies!\n"
     ]
    }
   ],
   "source": [
    "# Create an if elif else statement\n",
    "has_chocolate_chips = False\n",
    "has_sugar = False\n",
    "has_flour = True\n",
    "if has_chocolate_chips:\n",
    "    print(\"Chocolate Time!\")\n",
    "elif has_sugar and has_flour:\n",
    "    print(\"Baking Time, cookies or cake?\")\n",
    "else: \n",
    "    print(\"Time to run to the store for supplies!\")"
   ]
  },
  {
   "cell_type": "code",
   "execution_count": 6,
   "metadata": {},
   "outputs": [
    {
     "output_type": "stream",
     "name": "stdout",
     "text": [
      "0\n1\n2\n3\n4\n5\n6\n7\n8\n9\n"
     ]
    }
   ],
   "source": [
    "# Create a for loop using range(). Go from 0 to 9. Print out each number.\n",
    "\n",
    "for value in range(10):\n",
    "    print(value)"
   ]
  },
  {
   "cell_type": "code",
   "execution_count": 10,
   "metadata": {},
   "outputs": [
    {
     "output_type": "stream",
     "name": "stdout",
     "text": [
      "Blue\nYellow\nRed\nGreen\nPurple\nMagenta\nLilac\n7\n"
     ]
    }
   ],
   "source": [
    "# Create a for loop iterating through this list and printing out the value.\n",
    "arr = ['Blue', 'Yellow', 'Red', 'Green', 'Purple', 'Magenta', 'Lilac']\n",
    "for value in arr:\n",
    "    print(value)\n",
    "\n",
    "# Get the length of the list above and print it.\n",
    "color_count = len(arr)\n",
    "print(color_count)"
   ]
  },
  {
   "cell_type": "code",
   "execution_count": 14,
   "metadata": {
    "tags": []
   },
   "outputs": [
    {
     "output_type": "stream",
     "name": "stdout",
     "text": [
      "Still searching..\nStill searching..\nStill searching..\nStill searching..\nStill searching..\nStill searching..\nFound the lucky number: 6\n"
     ]
    }
   ],
   "source": [
    "# Create a while loop that ends after 6 times through. Print something for each pass.\n",
    "import random\n",
    "\n",
    "lucky_number = random.randint(0, 6)\n",
    "\n",
    "position = 0\n",
    "\n",
    "while position != lucky_number:\n",
    "    print(\"Still searching..\")\n",
    "    position += 1\n",
    "\n",
    "print(\"Found the lucky number:\", lucky_number)"
   ]
  },
  {
   "cell_type": "code",
   "execution_count": 2,
   "metadata": {
    "tags": []
   },
   "outputs": [
    {
     "output_type": "stream",
     "name": "stdout",
     "text": [
      "938\n"
     ]
    }
   ],
   "source": [
    "# Create a function to add 2 numbers together. Print out the number\n",
    "value1 = 543\n",
    "value2 = 395\n",
    "\n",
    "print(value1 + value2)"
   ]
  },
  {
   "cell_type": "code",
   "execution_count": 4,
   "metadata": {},
   "outputs": [
    {
     "output_type": "stream",
     "name": "stdout",
     "text": [
      "Even Number\n"
     ]
    }
   ],
   "source": [
    "# Create a function that tells you if a number is odd or even and print the result.\n",
    "number = 12346\n",
    "\n",
    "if number %2 == 0:\n",
    "    print(\"Even Number\")\n",
    "else:\n",
    "    print(\"Odd Number\")\n"
   ]
  },
  {
   "cell_type": "code",
   "execution_count": 47,
   "metadata": {
    "tags": []
   },
   "outputs": [
    {
     "output_type": "stream",
     "name": "stdout",
     "text": [
      "Dog's Name: Scout\nDog's Height: 14 Inches\nDog's Weight: 50 Pounds\nDog's Breed: Laborador Mix\n"
     ]
    }
   ],
   "source": [
    "# Initialize an instance of the following class. Use a variable to store the object and then call the info function to print out the attributes.\n",
    "class Dog:\n",
    "    def __init__(self, name, height, weight, breed):\n",
    "        self.name = name\n",
    "        self.height = height\n",
    "        self.weight = weight\n",
    "        self.breed = breed\n",
    "\n",
    "    def info(self):\n",
    "        print(\"Dog's Name: \" + self.name)\n",
    "        print(\"Dog's Height: \" + str(self.height) + \" Inches\")\n",
    "        print(\"Dog's Weight: \" + str(self.weight) + \" Pounds\")\n",
    "        print(\"Dog's Breed: \" + self.breed)\n",
    "\n",
    "if __name__ == \"__main__\":\n",
    "    Scout = Dog(\"Scout\", 14, 50, \"Laborador Mix\")\n",
    "    Scout.info()\n",
    "    "
   ]
  }
 ]
}