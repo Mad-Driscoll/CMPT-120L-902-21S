{
 "metadata": {
  "language_info": {
   "codemirror_mode": {
    "name": "ipython",
    "version": 3
   },
   "file_extension": ".py",
   "mimetype": "text/x-python",
   "name": "python",
   "nbconvert_exporter": "python",
   "pygments_lexer": "ipython3",
   "version": "3.9.2-final"
  },
  "orig_nbformat": 2,
  "kernelspec": {
   "name": "python3",
   "display_name": "Python 3.9.2 64-bit",
   "metadata": {
    "interpreter": {
     "hash": "89b575b5bc2b314d08aeb5ae0e238fde3e4f94dd575837234bda5fc449f3cc9f"
    }
   }
  }
 },
 "nbformat": 4,
 "nbformat_minor": 2,
 "cells": [
  {
   "cell_type": "markdown",
   "metadata": {},
   "source": [
    "# Lab One\n",
    "---\n",
    "\n",
    "Ok for this lab we're going to reiterate a lot of the things that we went over in class.\n",
    "\n",
    "Our Goals are:\n",
    "- Defining variables\n",
    "- Using math\n",
    "- Manipulating variables\n",
    "- Changing data types\n",
    "- Playing with lists"
   ]
  },
  {
   "cell_type": "code",
   "execution_count": 1,
   "metadata": {},
   "outputs": [
    {
     "output_type": "stream",
     "name": "stdout",
     "text": [
      "100\nHello World\nTrue\n100.54\n"
     ]
    }
   ],
   "source": [
    "# Define 4 variables, one of each type listed: [Integer, String, Boolean, Float]. Print all 4.\n",
    "\n",
    "#Integer\n",
    "number = 100\n",
    "\n",
    "#String\n",
    "greeting = 'Hello World'\n",
    "\n",
    "#Boolean\n",
    "is_robot = True\n",
    "\n",
    "#Float\n",
    "number_decimal = 100.54\n",
    "\n",
    "print(number)\n",
    "print(greeting)\n",
    "print(is_robot)\n",
    "print(number_decimal)"
   ]
  },
  {
   "cell_type": "code",
   "execution_count": 3,
   "metadata": {},
   "outputs": [
    {
     "output_type": "stream",
     "name": "stdout",
     "text": [
      "7\n8\n1.3333333333333333\n12\n1\n"
     ]
    }
   ],
   "source": [
    "# With whatever variables you'd like demonstrate the following: [Addition, Subtraction, Division, Multiplication, Modulo]. Print all 5.\n",
    "\n",
    "count1 = 12\n",
    "count2 = 3\n",
    "count3 = 4\n",
    "\n",
    "#Addition\n",
    "print(count2 + count3)\n",
    "\n",
    "#Subtraction\n",
    "print(count1 - count3)\n",
    "\n",
    "#Division\n",
    "print(count3 / count2)\n",
    "\n",
    "#Multiplication\n",
    "print(count2 * count3)\n",
    "\n",
    "#Modulo\n",
    "print(count3 % count2)"
   ]
  },
  {
   "cell_type": "code",
   "execution_count": 5,
   "metadata": {},
   "outputs": [
    {
     "output_type": "stream",
     "name": "stdout",
     "text": [
      "57\n"
     ]
    }
   ],
   "source": [
    "# Using 2 variables and addition print the number 57\n",
    "\n",
    "variable1 = 25\n",
    "variable2 = 32\n",
    "\n",
    "print(variable1 + variable2)"
   ]
  },
  {
   "cell_type": "code",
   "execution_count": 10,
   "metadata": {
    "tags": []
   },
   "outputs": [
    {
     "output_type": "stream",
     "name": "stdout",
     "text": [
      "<class 'str'>\n<class 'int'>\n<class 'float'>\n<class 'bool'>\n"
     ]
    }
   ],
   "source": [
    "# Change this variable to a string and print\n",
    "number_into_string = 37\n",
    "\n",
    "number_into_string = str(number_into_string)\n",
    "print(type(number_into_string))\n",
    "\n",
    "# Change this variable to a integer and print\n",
    "string_into_number = '10'\n",
    "\n",
    "string_into_number = int(string_into_number)\n",
    "print(type(string_into_number))\n",
    "\n",
    "# Change this variable to a float and print\n",
    "string_into_float = '299.99'\n",
    "\n",
    "string_into_float = float(string_into_float)\n",
    "print(type(string_into_float))\n",
    "\n",
    "# Change this variable to a boolean and print\n",
    "number_into_boolean = 37\n",
    "\n",
    "number_into_boolean = bool(number_into_boolean)\n",
    "print(type(number_into_boolean))\n"
   ]
  },
  {
   "cell_type": "code",
   "execution_count": 11,
   "metadata": {},
   "outputs": [
    {
     "output_type": "stream",
     "name": "stdout",
     "text": [
      "[2, 4, 6, 8, 10, 12, 14, 16, 18, 20]\n"
     ]
    }
   ],
   "source": [
    "# Make me a list of any type\n",
    "\n",
    "even_numbers = [2,4,6,8,10,12,14,16,18,20,22]\n",
    "print(even_numbers)"
   ]
  }
 ]
}