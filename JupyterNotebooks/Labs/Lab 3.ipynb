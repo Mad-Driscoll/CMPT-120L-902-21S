{
 "metadata": {
  "language_info": {
   "codemirror_mode": {
    "name": "ipython",
    "version": 3
   },
   "file_extension": ".py",
   "mimetype": "text/x-python",
   "name": "python",
   "nbconvert_exporter": "python",
   "pygments_lexer": "ipython3",
   "version": "3.8.5-final"
  },
  "orig_nbformat": 2,
  "kernelspec": {
   "name": "python3",
   "display_name": "Python 3",
   "language": "python"
  }
 },
 "nbformat": 4,
 "nbformat_minor": 2,
 "cells": [
  {
   "source": [
    "# Lab Three\n",
    "---\n",
    "\n",
    "For this lab we're going to be making and using a bunch of functions. \n",
    "\n",
    "Our Goals are:\n",
    "- Searching our Documentation\n",
    "- Using built in functions\n",
    "- Making our own functions\n",
    "- Combining functions\n",
    "- Structuring solutions"
   ],
   "cell_type": "markdown",
   "metadata": {}
  },
  {
   "cell_type": "code",
   "execution_count": 1,
   "metadata": {},
   "outputs": [],
   "source": [
    "# For the following built in functions we didn't touch on them in class. I want you to look for them in the python documentation and implement them."
   ]
  },
  {
   "cell_type": "code",
   "execution_count": 4,
   "metadata": {},
   "outputs": [
    {
     "output_type": "stream",
     "name": "stdout",
     "text": [
      "hEy THerE hOWs It gOing\n"
     ]
    }
   ],
   "source": [
    "# I want you to find a built in function to SWAP CASE on a string. Print it.\n",
    "\n",
    "# For example the string \"HeY thERe HowS iT GoING\" turns into \"hEy THerE hOWs It gOing\"\n",
    "\n",
    "sample_string = \"HeY thERe HowS iT GoING\"\n",
    "print(sample_string.swapcase())"
   ]
  },
  {
   "cell_type": "code",
   "execution_count": 5,
   "metadata": {},
   "outputs": [
    {
     "output_type": "stream",
     "name": "stdout",
     "text": [
      "----Hey There----\n"
     ]
    }
   ],
   "source": [
    "# I want you to find a built in function to CENTER a string and pad the sides with 4 dashes(-) a side. Print it.\n",
    "\n",
    "# For example the string \"Hey There\" becomes \"----Hey There----\"\n",
    "\n",
    "sample_string = \"Hey There\"\n",
    "print(sample_string.center(17, \"-\"))"
   ]
  },
  {
   "cell_type": "code",
   "execution_count": 7,
   "metadata": {},
   "outputs": [
    {
     "output_type": "stream",
     "name": "stdout",
     "text": [
      "('abcdefg', '.', 'hijklmnop')\n"
     ]
    }
   ],
   "source": [
    "# I want you to find a built in function to PARTITION a string. Print it.\n",
    "\n",
    "# For example the string \"abcdefg.hijklmnop\" would come out to be [\"abcdefg\",\".\",\"hijklmnop\"]\n",
    "\n",
    "sample_string = \"abcdefg.hijklmnop\"\n",
    "print(sample_string.partition(\".\"))"
   ]
  },
  {
   "cell_type": "code",
   "execution_count": 13,
   "metadata": {},
   "outputs": [
    {
     "output_type": "stream",
     "name": "stdout",
     "text": [
      "64\n"
     ]
    }
   ],
   "source": [
    "# I want you to write a function that will take in a number and raise it to the power given. \n",
    "\n",
    "# For example if given the numbers 2 and 3. The math that the function should do is 2^3 and should print out or return 8. Print the output.\n",
    "\n",
    "def exponent(x, y):\n",
    "    return x ** y\n",
    "\n",
    "print(exponent(4, 3))"
   ]
  },
  {
   "cell_type": "code",
   "execution_count": 42,
   "metadata": {},
   "outputs": [
    {
     "output_type": "stream",
     "name": "stdout",
     "text": [
      "2\n"
     ]
    }
   ],
   "source": [
    "# I want you to write a function that will take in a list and see how many times a given number is in the list. \n",
    "\n",
    "# For example if the array given is [2,3,5,2,3,6,7,8,2] and the number given is 2 the function should print out or return 3. Print the output.\n",
    "\n",
    "def apple(a, b, c, d, e, f, g, h):\n",
    "    arr = [2, 4, 6, 2, 8, 4, 7, 9]\n",
    "    return arr.count(2)\n",
    "\n",
    "print(apple(2, 4, 6, 2, 8, 4, 7, 9))"
   ]
  },
  {
   "cell_type": "code",
   "execution_count": 10,
   "metadata": {},
   "outputs": [
    {
     "output_type": "stream",
     "name": "stdout",
     "text": [
      "1.0\n1.0\n"
     ]
    }
   ],
   "source": [
    "# Use the functions given to create a slope function. The function should be named slope and have 4 parameters.\n",
    "\n",
    "# If you don't remember the slope formula is (y2 - y1) / (x2 - x1) If this doesn't make sense look up `Slope Formula` on google.\n",
    "\n",
    "def division(x, y):\n",
    "    return x / y\n",
    "\n",
    "def subtraction(x, y):\n",
    "    return x - y\n",
    "\n",
    "rise = subtraction(1, 2)\n",
    "run = subtraction(1, 2)\n",
    "slope1 = division(rise, run)\n",
    "\n",
    "print(slope1)\n",
    "\n",
    "\n",
    "def slope(x1, x2, y1, y2):\n",
    "    return (y2-y1)/(x2-x1)\n",
    "\n",
    "print(slope(1, 2, 1, 2))"
   ]
  },
  {
   "cell_type": "code",
   "execution_count": 12,
   "metadata": {},
   "outputs": [
    {
     "output_type": "stream",
     "name": "stdout",
     "text": [
      "1.4142135623730951\n1.4142135623730951\n"
     ]
    }
   ],
   "source": [
    "# Use the functions given to create a distance function. The function should be named function and have 4 parameters.\n",
    "\n",
    "# HINT: You'll need a built in function here too. You'll also be able to use functions written earlier in the notebook as long as you've run those cells.\n",
    "\n",
    "# If you don't remember the distance formula it is the square root of the following ((x2 - x1)^2 + (y2 - y1)^2). If this doesn't make sense look up `Distance Formula` on google.\n",
    "\n",
    "import math\n",
    "\n",
    "def addition(x, y):\n",
    "    return x + y\n",
    "\n",
    "value1 = subtraction(1, 2)**2\n",
    "value2 = subtraction(1, 2)**2\n",
    "value3 = addition(value1, value2)\n",
    "value4 = math.sqrt(value3)\n",
    "print(value4)\n",
    "\n",
    "\n",
    "def distance(x1, x2, y1, y2):\n",
    "    return math.sqrt((x2-x1)**2 + (y2-y1)**2)\n",
    "print(distance(1, 2, 1, 2))"
   ]
  }
 ]
}